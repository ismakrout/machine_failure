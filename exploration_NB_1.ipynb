{
 "cells": [
  {
   "cell_type": "code",
   "execution_count": 1,
   "metadata": {},
   "outputs": [],
   "source": [
    "# importations \n",
    "import pandas as pd"
   ]
  },
  {
   "attachments": {},
   "cell_type": "markdown",
   "metadata": {},
   "source": [
    "### Data pre-processing"
   ]
  },
  {
   "cell_type": "code",
   "execution_count": 2,
   "metadata": {},
   "outputs": [],
   "source": [
    "df = pd.read_csv(\"00. input/train.csv\", sep=';', decimal=\".\")\n",
    "df_test = pd.read_csv(\"00. input/test.csv\", sep=';', decimal=\".\")"
   ]
  },
  {
   "cell_type": "code",
   "execution_count": 3,
   "metadata": {},
   "outputs": [],
   "source": [
    "y = df[\"Machine failure\"]\n",
    "X = df.drop(columns=[\"Machine failure\"]).select_dtypes(include='float64')\n",
    "X_test = df_test.select_dtypes(include='float64')"
   ]
  },
  {
   "attachments": {},
   "cell_type": "markdown",
   "metadata": {},
   "source": [
    "### Je tente une simple regression logistique"
   ]
  },
  {
   "cell_type": "code",
   "execution_count": 4,
   "metadata": {},
   "outputs": [
    {
     "name": "stdout",
     "output_type": "stream",
     "text": [
      "Scores de validation croisée : [0.78453717 0.80810091 0.81442028 0.81125144 0.80949138]\n",
      "Précisiono moyenne : 0.8055602345007975\n"
     ]
    }
   ],
   "source": [
    "# simple pipeline\n",
    "\n",
    "from sklearn.pipeline import Pipeline\n",
    "from sklearn.impute import KNNImputer\n",
    "from sklearn.preprocessing import StandardScaler\n",
    "from sklearn.linear_model import LogisticRegression\n",
    "from sklearn.model_selection import cross_val_score\n",
    "from sklearn.metrics import roc_auc_score\n",
    "\n",
    "pipeline = Pipeline([\n",
    "    ('imputer', KNNImputer(n_neighbors=5)), # remplissage des valeurs manquantes par un imputer\n",
    "    ('scaler', StandardScaler()), # mise à l'échelle des données\n",
    "    ('classifier', LogisticRegression())\n",
    "])\n",
    "\n",
    "scores = cross_val_score(pipeline, X, y, cv=5, scoring='roc_auc')\n",
    "print('Scores de validation croisée :', scores)\n",
    "print('Précisiono moyenne :', scores.mean())"
   ]
  },
  {
   "cell_type": "code",
   "execution_count": 5,
   "metadata": {},
   "outputs": [],
   "source": [
    "# je le fais à la main pour voir à quoi ressemblent la méthode predict_proba\n",
    "\n",
    "from sklearn.pipeline import Pipeline\n",
    "from sklearn.impute import KNNImputer\n",
    "from sklearn.preprocessing import StandardScaler\n",
    "from sklearn.linear_model import LogisticRegression\n",
    "from sklearn.model_selection import cross_val_score\n",
    "from sklearn.metrics import roc_auc_score\n",
    "\n",
    "pipeline = Pipeline([\n",
    "    ('imputer', KNNImputer(n_neighbors=5)), # remplissage des valeurs manquantes par un imputer\n",
    "    ('scaler', StandardScaler()), # mise à l'échelle des données\n",
    "    ('classifier', LogisticRegression())\n",
    "])\n",
    "\n",
    "# on fit le modèle\n",
    "pipeline.fit(X, y)\n",
    "\n",
    "# on prédit les probas\n",
    "aux = pd.DataFrame(pipeline.predict_proba(X_test), columns=[\"proba_0\", \"proba_1\"])"
   ]
  },
  {
   "attachments": {},
   "cell_type": "markdown",
   "metadata": {},
   "source": [
    "### un essai de soumission (soumission_1.csv)"
   ]
  },
  {
   "cell_type": "code",
   "execution_count": 6,
   "metadata": {},
   "outputs": [],
   "source": [
    "# essai de soumission en utilisant la pipeline basique\n",
    "\n",
    "from sklearn.pipeline import Pipeline\n",
    "from sklearn.impute import KNNImputer\n",
    "from sklearn.preprocessing import StandardScaler\n",
    "from sklearn.linear_model import LogisticRegression\n",
    "from sklearn.model_selection import cross_val_score\n",
    "from sklearn.metrics import roc_auc_score\n",
    "\n",
    "pipeline = Pipeline([\n",
    "    ('imputer', KNNImputer(n_neighbors=5)), # remplissage des valeurs manquantes par un imputer\n",
    "    ('scaler', StandardScaler()), # mise à l'échelle des données\n",
    "    ('classifier', LogisticRegression())\n",
    "])\n",
    "\n",
    "# je fit avec tte la donnée de train\n",
    "pipeline.fit(X, y)\n",
    "\n",
    "# je prédis la proba de la machine failure donc la 2 emme colonne \n",
    "y_test = pd.concat([df_test[\"id\"], pd.DataFrame(pipeline.predict_proba(X_test), columns=[\"proba_0\", \"Machine failure\"])[\"Machine failure\"]], axis=1)"
   ]
  },
  {
   "cell_type": "code",
   "execution_count": 7,
   "metadata": {},
   "outputs": [],
   "source": [
    "# y_test.to_csv(\"01. output/soumission_1.csv\", decimal='.', sep=',', index=False)"
   ]
  }
 ],
 "metadata": {
  "kernelspec": {
   "display_name": "Python 3",
   "language": "python",
   "name": "python3"
  },
  "language_info": {
   "codemirror_mode": {
    "name": "ipython",
    "version": 3
   },
   "file_extension": ".py",
   "mimetype": "text/x-python",
   "name": "python",
   "nbconvert_exporter": "python",
   "pygments_lexer": "ipython3",
   "version": "3.11.3"
  },
  "orig_nbformat": 4
 },
 "nbformat": 4,
 "nbformat_minor": 2
}
